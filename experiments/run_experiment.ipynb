{
 "cells": [
  {
   "cell_type": "code",
   "execution_count": null,
   "metadata": {},
   "outputs": [],
   "source": [
    "import sys\n",
    "\n",
    "sys.path.append(\"..\")"
   ]
  },
  {
   "cell_type": "code",
   "execution_count": null,
   "metadata": {},
   "outputs": [],
   "source": [
    "from experiments.draw import plot_results\n",
    "from experiments.colors import get_vibrant_colors\n",
    "from experiments.utils import load_experiment\n",
    "import matplotlib.pyplot as plt\n",
    "import numpy as np\n",
    "\n",
    "np.random.seed(0)\n",
    "plt.rcParams[\"figure.dpi\"] = 600"
   ]
  },
  {
   "cell_type": "code",
   "execution_count": null,
   "metadata": {},
   "outputs": [],
   "source": [
    "NAME = \"expr20240602094304\"\n",
    "\n",
    "\n",
    "SUBFOLDER = \"general\"\n",
    "\n",
    "\n",
    "model, data, _ = load_experiment(NAME, SUBFOLDER)\n",
    "\n",
    "\n",
    "plt.rcParams[\"figure.dpi\"] = 600\n",
    "\n",
    "\n",
    "plt.rcParams[\"figure.figsize\"] = (8, 8)"
   ]
  },
  {
   "cell_type": "code",
   "execution_count": null,
   "metadata": {},
   "outputs": [],
   "source": [
    "model.fit(data)\n",
    "\n",
    "# Get the clustering results\n",
    "# Get the clustering results\n",
    "radii, centers, memberships = model.get_labels()\n",
    "n_rings = model.n_rings\n",
    "# Define distinct vibrant colors for each ring\n",
    "vibrant_colors = get_vibrant_colors(n_rings)\n",
    "# Ensure we have as many vibrant colors as we have rings\n",
    "if len(vibrant_colors) < n_rings:\n",
    "    raise ValueError(\n",
    "        \"Not enough distinct vibrant colors for the number of rings\")\n",
    "fig = plot_results(data, radii, centers, memberships, vibrant_colors)\n",
    "fig"
   ]
  },
  {
   "cell_type": "code",
   "execution_count": null,
   "metadata": {},
   "outputs": [],
   "source": [
    "import matplotlib\n",
    "\n",
    "\n",
    "def save_plot_to_tikz(name):\n",
    "    old_backend = matplotlib.get_backend()\n",
    "    matplotlib.use(\"pgf\")\n",
    "    fig.savefig(f\"{name}.pgf\")\n",
    "    matplotlib.use(old_backend)\n",
    "\n",
    "\n",
    "save_plot_to_tikz(NAME)"
   ]
  },
  {
   "cell_type": "code",
   "execution_count": null,
   "metadata": {},
   "outputs": [],
   "source": []
  }
 ],
 "metadata": {
  "kernelspec": {
   "display_name": "pytorch",
   "language": "python",
   "name": "python3"
  },
  "language_info": {
   "codemirror_mode": {
    "name": "ipython",
    "version": 3
   },
   "file_extension": ".py",
   "mimetype": "text/x-python",
   "name": "python",
   "nbconvert_exporter": "python",
   "pygments_lexer": "ipython3",
   "version": "3.11.5"
  }
 },
 "nbformat": 4,
 "nbformat_minor": 2
}
