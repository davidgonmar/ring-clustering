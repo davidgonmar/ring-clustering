{
 "cells": [
  {
   "cell_type": "code",
   "execution_count": 13,
   "metadata": {},
   "outputs": [],
   "source": [
    "import sys\n",
    "\n",
    "sys.path.append(\"..\")"
   ]
  },
  {
   "cell_type": "code",
   "execution_count": 14,
   "metadata": {},
   "outputs": [],
   "source": [
    "from nrc import NoisyRingsClustering\n",
    "from nrc.datagen import random_circles, random_noise\n",
    "import numpy as np"
   ]
  },
  {
   "cell_type": "code",
   "execution_count": 15,
   "metadata": {},
   "outputs": [],
   "source": [
    "import matplotlib.pyplot as plt"
   ]
  },
  {
   "cell_type": "code",
   "execution_count": 22,
   "metadata": {},
   "outputs": [
    {
     "name": "stderr",
     "output_type": "stream",
     "text": [
      "INFO:root:Converged after 7 iterations. Stopping early.\n"
     ]
    },
    {
     "name": "stdout",
     "output_type": "stream",
     "text": [
      "[[ 334.8509885   -10.61968394]\n",
      " [-372.43851057  546.62366032]\n",
      " [-513.90129645 -487.86464838]\n",
      " [ 385.74498801  369.99505037]]\n",
      "Total of noise points:  0  out of  200\n",
      "Total of noise points:  0  out of  200\n",
      "Total of noise points:  0  out of  200\n",
      "Total of noise points:  0  out of  200\n"
     ]
    }
   ],
   "source": [
    "import numpy as np\n",
    "import matplotlib.pyplot as plt\n",
    "from matplotlib.colors import Normalize\n",
    "from random import uniform\n",
    "\n",
    "# high res plt\n",
    "plt.rcParams[\"figure.dpi\"] = 300\n",
    "# Assuming random_circles and random_noise are defined functions\n",
    "# that generate the necessary data\n",
    "\n",
    "# Generate circles and noise data\n",
    "center_delims = np.array([[-600, -600], [-600, 600], [600, -600], [600, 600]])\n",
    "minmax_radius = np.array([200, 300])\n",
    "n_rings = 4\n",
    "circles = random_circles(center_delims, minmax_radius, 50, n_rings, noise=0)\n",
    "\n",
    "# Generate additional noise\n",
    "noise = random_noise(center_delims, 0, 0.1)\n",
    "\n",
    "# Combine circles and noise\n",
    "circles = np.concatenate([circles, noise])\n",
    "\n",
    "\n",
    "# Fit the clustering model\n",
    "model = NoisyRingsClustering(\n",
    "    n_rings=n_rings, q=1.1, convergence_eps=0, max_iters=330)\n",
    "model.fit(circles)\n",
    "\n",
    "# mask = model.prune_noise(threshold=1.5, reestimate_centers_and_radii=False)\n",
    "# Get the clustering results\n",
    "radii, centers, memberships = model.get_labels()\n",
    "\n",
    "# Define distinct colormaps for each ring\n",
    "colormaps = [\"viridis\", \"plasma\", \"inferno\", \"magma\"]  # Add more if needed\n",
    "\n",
    "# Ensure we have as many colormaps as we have rings\n",
    "if len(colormaps) < n_rings:\n",
    "    raise ValueError(\"Not enough distinct colormaps for the number of rings\")\n",
    "\n",
    "# Draw the points with gradient colors\n",
    "for cluster in range(n_rings):\n",
    "    cluster_memberships = memberships[cluster, :]\n",
    "    norm = Normalize(vmin=0, vmax=1)\n",
    "    cmap = plt.get_cmap(colormaps[cluster])\n",
    "    cluster_colors = cmap(norm(cluster_memberships))\n",
    "\n",
    "    # if a point is noise, color it black\n",
    "    cluster_colors[np.where(cluster_memberships == -1)] = [0, 0, 0, 1]\n",
    "    print(\n",
    "        \"Total of noise points: \",\n",
    "        len(np.where(cluster_memberships == -1)[0]),\n",
    "        \" out of \",\n",
    "        len(cluster_memberships),\n",
    "    )\n",
    "    plt.scatter(\n",
    "        circles[:, 0], circles[:, 1], c=cluster_colors, alpha=0.5, edgecolors=\"w\", s=50\n",
    "    )\n",
    "\n",
    "# Draw circles with radii\n",
    "for i in range(len(radii)):\n",
    "    circle = plt.Circle(centers[i], radii[i], fill=False, edgecolor=\"black\")\n",
    "    plt.gca().add_artist(circle)\n",
    "    # draw the center of the circle\n",
    "    plt.scatter(centers[i][0], centers[i][1], c=\"red\", s=50)\n",
    "\n",
    "# Show the plot\n",
    "plt.axis(\"equal\")\n",
    "plt.show()"
   ]
  },
  {
   "cell_type": "code",
   "execution_count": null,
   "metadata": {},
   "outputs": [],
   "source": []
  },
  {
   "cell_type": "code",
   "execution_count": null,
   "metadata": {},
   "outputs": [],
   "source": []
  }
 ],
 "metadata": {
  "kernelspec": {
   "display_name": "pytorch",
   "language": "python",
   "name": "python3"
  },
  "language_info": {
   "codemirror_mode": {
    "name": "ipython",
    "version": 3
   },
   "file_extension": ".py",
   "mimetype": "text/x-python",
   "name": "python",
   "nbconvert_exporter": "python",
   "pygments_lexer": "ipython3",
   "version": "3.11.5"
  }
 },
 "nbformat": 4,
 "nbformat_minor": 2
}
